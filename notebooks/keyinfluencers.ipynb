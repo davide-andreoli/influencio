{
 "cells": [
  {
   "cell_type": "code",
   "execution_count": 5,
   "id": "6fafd4bc",
   "metadata": {},
   "outputs": [],
   "source": [
    "import sys\n",
    "from pathlib import Path\n",
    "import logging\n",
    "\n",
    "logging.basicConfig(level=logging.INFO)\n",
    "\n",
    "notebook_dir = Path(__file__).parent if \"__file__\" in locals() else Path.cwd()\n",
    "src_path = notebook_dir.parent\n",
    "sys.path.append(str(src_path))"
   ]
  },
  {
   "cell_type": "code",
   "execution_count": 6,
   "id": "32310e0f",
   "metadata": {},
   "outputs": [],
   "source": [
    "from sklearn.datasets import load_iris\n",
    "import pandas as pd\n",
    "\n",
    "iris = load_iris()\n",
    "df = pd.DataFrame(iris.data, columns=iris.feature_names)\n",
    "df[\"target\"] = iris.target_names[iris.target]"
   ]
  },
  {
   "cell_type": "code",
   "execution_count": 7,
   "id": "863306a5",
   "metadata": {},
   "outputs": [],
   "source": [
    "from src.influencio.keyinfluencers import KeyInfluencers\n",
    "\n",
    "ki = KeyInfluencers(df, \"target\")\n",
    "ki.fit()\n",
    "feature_contributions, rules, insights = ki.key_segments()"
   ]
  },
  {
   "cell_type": "code",
   "execution_count": null,
   "id": "63e40aa7",
   "metadata": {},
   "outputs": [],
   "source": [
    "print(insights)"
   ]
  }
 ],
 "metadata": {
  "kernelspec": {
   "display_name": "keyinfluencers-_rsywfgg-py3.11",
   "language": "python",
   "name": "python3"
  },
  "language_info": {
   "codemirror_mode": {
    "name": "ipython",
    "version": 3
   },
   "file_extension": ".py",
   "mimetype": "text/x-python",
   "name": "python",
   "nbconvert_exporter": "python",
   "pygments_lexer": "ipython3",
   "version": "3.11.5"
  }
 },
 "nbformat": 4,
 "nbformat_minor": 5
}
